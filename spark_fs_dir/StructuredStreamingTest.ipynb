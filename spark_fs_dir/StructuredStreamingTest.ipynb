{
 "cells": [
  {
   "cell_type": "code",
   "execution_count": 1,
   "id": "49e6571e",
   "metadata": {},
   "outputs": [
    {
     "name": "stderr",
     "output_type": "stream",
     "text": [
      "/usr/local/lib/python3.9/dist-packages/pyspark/bin/load-spark-env.sh: line 68: ps: command not found\n"
     ]
    },
    {
     "name": "stdout",
     "output_type": "stream",
     "text": [
      ":: loading settings :: url = jar:file:/usr/local/lib/python3.9/dist-packages/pyspark/jars/ivy-2.5.0.jar!/org/apache/ivy/core/settings/ivysettings.xml\n"
     ]
    },
    {
     "name": "stderr",
     "output_type": "stream",
     "text": [
      "Ivy Default Cache set to: /root/.ivy2/cache\n",
      "The jars for the packages stored in: /root/.ivy2/jars\n",
      "org.apache.spark#spark-sql-kafka-0-10_2.12 added as a dependency\n",
      "org.postgresql#postgresql added as a dependency\n",
      ":: resolving dependencies :: org.apache.spark#spark-submit-parent-e8e18b41-6d37-43be-b836-ebd34597ca7d;1.0\n",
      "\tconfs: [default]\n",
      "\tfound org.apache.spark#spark-sql-kafka-0-10_2.12;3.3.1 in central\n",
      "\tfound org.apache.spark#spark-token-provider-kafka-0-10_2.12;3.3.1 in central\n",
      "\tfound org.apache.kafka#kafka-clients;2.8.1 in central\n",
      "\tfound org.lz4#lz4-java;1.8.0 in central\n",
      "\tfound org.xerial.snappy#snappy-java;1.1.8.4 in central\n",
      "\tfound org.slf4j#slf4j-api;1.7.32 in central\n",
      "\tfound org.apache.hadoop#hadoop-client-runtime;3.3.2 in central\n",
      "\tfound org.spark-project.spark#unused;1.0.0 in central\n",
      "\tfound org.apache.hadoop#hadoop-client-api;3.3.2 in central\n",
      "\tfound commons-logging#commons-logging;1.1.3 in central\n",
      "\tfound com.google.code.findbugs#jsr305;3.0.0 in central\n",
      "\tfound org.apache.commons#commons-pool2;2.11.1 in central\n",
      "\tfound org.postgresql#postgresql;42.5.1 in central\n",
      "\tfound org.checkerframework#checker-qual;3.5.0 in central\n",
      ":: resolution report :: resolve 444ms :: artifacts dl 13ms\n",
      "\t:: modules in use:\n",
      "\tcom.google.code.findbugs#jsr305;3.0.0 from central in [default]\n",
      "\tcommons-logging#commons-logging;1.1.3 from central in [default]\n",
      "\torg.apache.commons#commons-pool2;2.11.1 from central in [default]\n",
      "\torg.apache.hadoop#hadoop-client-api;3.3.2 from central in [default]\n",
      "\torg.apache.hadoop#hadoop-client-runtime;3.3.2 from central in [default]\n",
      "\torg.apache.kafka#kafka-clients;2.8.1 from central in [default]\n",
      "\torg.apache.spark#spark-sql-kafka-0-10_2.12;3.3.1 from central in [default]\n",
      "\torg.apache.spark#spark-token-provider-kafka-0-10_2.12;3.3.1 from central in [default]\n",
      "\torg.checkerframework#checker-qual;3.5.0 from central in [default]\n",
      "\torg.lz4#lz4-java;1.8.0 from central in [default]\n",
      "\torg.postgresql#postgresql;42.5.1 from central in [default]\n",
      "\torg.slf4j#slf4j-api;1.7.32 from central in [default]\n",
      "\torg.spark-project.spark#unused;1.0.0 from central in [default]\n",
      "\torg.xerial.snappy#snappy-java;1.1.8.4 from central in [default]\n",
      "\t---------------------------------------------------------------------\n",
      "\t|                  |            modules            ||   artifacts   |\n",
      "\t|       conf       | number| search|dwnlded|evicted|| number|dwnlded|\n",
      "\t---------------------------------------------------------------------\n",
      "\t|      default     |   14  |   0   |   0   |   0   ||   14  |   0   |\n",
      "\t---------------------------------------------------------------------\n",
      ":: retrieving :: org.apache.spark#spark-submit-parent-e8e18b41-6d37-43be-b836-ebd34597ca7d\n",
      "\tconfs: [default]\n",
      "\t0 artifacts copied, 14 already retrieved (0kB/9ms)\n"
     ]
    },
    {
     "name": "stdout",
     "output_type": "stream",
     "text": [
      "23/01/24 15:02:31 WARN NativeCodeLoader: Unable to load native-hadoop library for your platform... using builtin-java classes where applicable\n"
     ]
    },
    {
     "name": "stderr",
     "output_type": "stream",
     "text": [
      "Setting default log level to \"WARN\".\n",
      "To adjust logging level use sc.setLogLevel(newLevel). For SparkR, use setLogLevel(newLevel).\n"
     ]
    }
   ],
   "source": [
    "from pyspark.sql import SparkSession\n",
    "from pyspark.sql.functions import from_json, col\n",
    "from pyspark.sql.types import StructField, StructType, StringType\n",
    "import py4j\n",
    "\n",
    "spark = SparkSession.\\\n",
    "        builder.\\\n",
    "        appName(\"pyspark-notebook-kafka-struct-stream\").\\\n",
    "        master(\"spark://spark:7077\").\\\n",
    "        config('spark.jars.packages', 'org.apache.spark:spark-sql-kafka-0-10_2.12:3.3.1,org.postgresql:postgresql:42.5.1').\\\n",
    "        getOrCreate()"
   ]
  },
  {
   "cell_type": "code",
   "execution_count": 2,
   "id": "7cb84ef7",
   "metadata": {},
   "outputs": [],
   "source": [
    "class StructuredStreamingKafkaConnector:\n",
    "    def __init__(self, spark_session, kafka_servers, subscribe_topic, decode_schema, fun, checkpoint_directory = None):\n",
    "        self.__spark = spark_session\n",
    "        self.__kafka_servers = kafka_servers\n",
    "        self.__subscribe_topic = subscribe_topic\n",
    "        self.__decode_schema = decode_schema\n",
    "        self.__process_stream_function = fun\n",
    "        self.__checkpoint_directory = checkpoint_directory\n",
    "        self.__streaming_df = None\n",
    "        \n",
    "    def read_stream(self):\n",
    "        if self.__streaming_df is None:\n",
    "            self.__streaming_df = self.__spark \\\n",
    "                                    .readStream \\\n",
    "                                    .format(\"kafka\") \\\n",
    "                                    .option(\"kafka.bootstrap.servers\", self.__kafka_servers) \\\n",
    "                                    .option(\"subscribe\", self.__subscribe_topic) \\\n",
    "                                    .load()\n",
    "            self.__streaming_df.printSchema()\n",
    "    \n",
    "    def log_stream(self):\n",
    "        query = self.__streaming_df \\\n",
    "                    .selectExpr(\"CAST(key AS STRING)\", \"CAST(value AS STRING)\", \"topic\", \"partition\", \"offset\", \"timestamp\") \\\n",
    "                    .writeStream \\\n",
    "                    .format(\"console\") \\\n",
    "                    .option(\"checkpointLocation\", \"/fs/log_checkpoints\") \\\n",
    "                    .start()\n",
    "        query.awaitTermination()\n",
    "        \n",
    "    def write_stream(self):\n",
    "        query = self.__streaming_df \\\n",
    "                    .selectExpr(\"CAST(value AS STRING)\") \\\n",
    "                    .withColumn(\"value\", from_json(\"value\", self.__decode_schema)) \\\n",
    "                    .select(col('value.*')) \\\n",
    "                    .writeStream \\\n",
    "                    .foreachBatch(self.__process_stream_function)\n",
    "        \n",
    "        if not (self.__checkpoint_directory is None):\n",
    "            query = query.option(\"checkpointLocation\", self.__checkpoint_directory)\n",
    "        \n",
    "        query = query.start()\n",
    "        query.awaitTermination()\n",
    "            "
   ]
  },
  {
   "cell_type": "code",
   "execution_count": 3,
   "id": "4554138e",
   "metadata": {},
   "outputs": [],
   "source": [
    "schema = StructType(\n",
    "        [\n",
    "                StructField(\"val1\", StringType()),\n",
    "                StructField(\"val2\", StringType())\n",
    "        ]\n",
    ")\n",
    "\n",
    "mode = \"append\"\n",
    "url = \"jdbc:postgresql://test-postgres-db-%d:5432/db\"\n",
    "properties = {\"user\": \"auser\",\"password\": \"1234\",\"driver\": \"org.postgresql.Driver\"}\n",
    "\n",
    "import time\n",
    "\n",
    "def test_fun(x,y):\n",
    "    x.persist()\n",
    "    try:\n",
    "        x.write.jdbc(url=url%(1), table=\"tbl\", mode=mode, properties=properties)\n",
    "        print(\"Wrote data to test-postgres-db-1\")\n",
    "    except py4j.protocol.Py4JJavaError:\n",
    "        print(\"Exception will be handled....\")\n",
    "    \n",
    "    x.write.jdbc(url=url%(1), table=\"tbl\", mode=mode, properties=properties)\n",
    "    \n",
    "    print(y)\n",
    "    x.show()\n",
    "    \n",
    "    try:\n",
    "        x.write.jdbc(url=url%(2), table=\"tbl\", mode=mode, properties=properties)\n",
    "        print(\"Wrote data to test-postgres-db-2\")\n",
    "    except py4j.protocol.Py4JJavaError:\n",
    "        print(\"Exception will be handled....\")\n",
    "        \n",
    "    time.sleep(3)\n",
    "    \n",
    "    x.unpersist()"
   ]
  },
  {
   "cell_type": "code",
   "execution_count": 4,
   "id": "71eadebb",
   "metadata": {},
   "outputs": [],
   "source": [
    "ssKafka = StructuredStreamingKafkaConnector(spark, \"kafka:9092\", \"test\", schema, lambda x, y: test_fun(x,y), \"/fs/checkpoints\")"
   ]
  },
  {
   "cell_type": "code",
   "execution_count": 5,
   "id": "38e81f0f",
   "metadata": {},
   "outputs": [
    {
     "name": "stdout",
     "output_type": "stream",
     "text": [
      "root\n",
      " |-- key: binary (nullable = true)\n",
      " |-- value: binary (nullable = true)\n",
      " |-- topic: string (nullable = true)\n",
      " |-- partition: integer (nullable = true)\n",
      " |-- offset: long (nullable = true)\n",
      " |-- timestamp: timestamp (nullable = true)\n",
      " |-- timestampType: integer (nullable = true)\n",
      "\n"
     ]
    }
   ],
   "source": [
    "ssKafka.read_stream()"
   ]
  },
  {
   "cell_type": "code",
   "execution_count": 6,
   "id": "61f94752",
   "metadata": {},
   "outputs": [],
   "source": [
    "#ssKafka.log_stream()"
   ]
  },
  {
   "cell_type": "code",
   "execution_count": null,
   "id": "ef6ea5c8",
   "metadata": {},
   "outputs": [
    {
     "name": "stdout",
     "output_type": "stream",
     "text": [
      "23/01/24 15:03:09 WARN ResolveWriteToStream: spark.sql.adaptive.enabled is not supported in streaming DataFrames/Datasets and will be disabled.\n"
     ]
    },
    {
     "name": "stderr",
     "output_type": "stream",
     "text": [
      "[Stage 0:>                                                          (0 + 1) / 1]\r"
     ]
    }
   ],
   "source": [
    "ssKafka.write_stream()"
   ]
  },
  {
   "cell_type": "code",
   "execution_count": null,
   "id": "4a131a0e",
   "metadata": {},
   "outputs": [],
   "source": []
  },
  {
   "cell_type": "code",
   "execution_count": null,
   "id": "7d716080",
   "metadata": {},
   "outputs": [],
   "source": []
  }
 ],
 "metadata": {
  "kernelspec": {
   "display_name": "Python 3 (ipykernel)",
   "language": "python",
   "name": "python3"
  },
  "language_info": {
   "codemirror_mode": {
    "name": "ipython",
    "version": 3
   },
   "file_extension": ".py",
   "mimetype": "text/x-python",
   "name": "python",
   "nbconvert_exporter": "python",
   "pygments_lexer": "ipython3",
   "version": "3.9.2"
  }
 },
 "nbformat": 4,
 "nbformat_minor": 5
}
