{
 "cells": [
  {
   "cell_type": "code",
   "execution_count": null,
   "id": "0999525d",
   "metadata": {},
   "outputs": [
    {
     "name": "stderr",
     "output_type": "stream",
     "text": [
      "/usr/local/lib/python3.9/dist-packages/pyspark/bin/load-spark-env.sh: line 68: ps: command not found\n"
     ]
    },
    {
     "name": "stdout",
     "output_type": "stream",
     "text": [
      ":: loading settings :: url = jar:file:/usr/local/lib/python3.9/dist-packages/pyspark/jars/ivy-2.5.0.jar!/org/apache/ivy/core/settings/ivysettings.xml\n"
     ]
    },
    {
     "name": "stderr",
     "output_type": "stream",
     "text": [
      "Ivy Default Cache set to: /root/.ivy2/cache\n",
      "The jars for the packages stored in: /root/.ivy2/jars\n",
      "org.apache.spark#spark-sql-kafka-0-10_2.12 added as a dependency\n",
      "org.postgresql#postgresql added as a dependency\n",
      ":: resolving dependencies :: org.apache.spark#spark-submit-parent-6d55f236-d27a-4124-a9ad-ef8bbc1eef9f;1.0\n",
      "\tconfs: [default]\n",
      "\tfound org.apache.spark#spark-sql-kafka-0-10_2.12;3.3.1 in central\n",
      "\tfound org.apache.spark#spark-token-provider-kafka-0-10_2.12;3.3.1 in central\n",
      "\tfound org.apache.kafka#kafka-clients;2.8.1 in central\n",
      "\tfound org.lz4#lz4-java;1.8.0 in central\n",
      "\tfound org.xerial.snappy#snappy-java;1.1.8.4 in central\n",
      "\tfound org.slf4j#slf4j-api;1.7.32 in central\n",
      "\tfound org.apache.hadoop#hadoop-client-runtime;3.3.2 in central\n",
      "\tfound org.spark-project.spark#unused;1.0.0 in central\n",
      "\tfound org.apache.hadoop#hadoop-client-api;3.3.2 in central\n",
      "\tfound commons-logging#commons-logging;1.1.3 in central\n",
      "\tfound com.google.code.findbugs#jsr305;3.0.0 in central\n",
      "\tfound org.apache.commons#commons-pool2;2.11.1 in central\n",
      "\tfound org.postgresql#postgresql;42.5.1 in central\n",
      "\tfound org.checkerframework#checker-qual;3.5.0 in central\n",
      "downloading https://repo1.maven.org/maven2/org/apache/hadoop/hadoop-client-runtime/3.3.2/hadoop-client-runtime-3.3.2.jar ...\n",
      "\t[SUCCESSFUL ] org.apache.hadoop#hadoop-client-runtime;3.3.2!hadoop-client-runtime.jar (244305ms)\n",
      "downloading https://repo1.maven.org/maven2/org/lz4/lz4-java/1.8.0/lz4-java-1.8.0.jar ...\n",
      "\t[SUCCESSFUL ] org.lz4#lz4-java;1.8.0!lz4-java.jar (5994ms)\n",
      "downloading https://repo1.maven.org/maven2/org/xerial/snappy/snappy-java/1.1.8.4/snappy-java-1.1.8.4.jar ...\n",
      "\t[SUCCESSFUL ] org.xerial.snappy#snappy-java;1.1.8.4!snappy-java.jar(bundle) (13024ms)\n",
      "downloading https://repo1.maven.org/maven2/org/slf4j/slf4j-api/1.7.32/slf4j-api-1.7.32.jar ...\n",
      "\t[SUCCESSFUL ] org.slf4j#slf4j-api;1.7.32!slf4j-api.jar (412ms)\n",
      "downloading https://repo1.maven.org/maven2/org/apache/hadoop/hadoop-client-api/3.3.2/hadoop-client-api-3.3.2.jar ...\n"
     ]
    }
   ],
   "source": [
    "from pyspark.sql import SparkSession\n",
    "from pyspark.sql.functions import from_json, col\n",
    "from pyspark.sql.types import StructField, StructType, StringType\n",
    "import py4j\n",
    "\n",
    "spark = SparkSession.\\\n",
    "        builder.\\\n",
    "        appName(\"pyspark-notebook-kafka-struct-stream\").\\\n",
    "        master(\"spark://spark:7077\").\\\n",
    "        config('spark.jars.packages', 'org.apache.spark:spark-sql-kafka-0-10_2.12:3.3.1,org.postgresql:postgresql:42.5.1').\\\n",
    "        getOrCreate()"
   ]
  },
  {
   "cell_type": "code",
   "execution_count": null,
   "id": "635d71ab",
   "metadata": {},
   "outputs": [],
   "source": [
    "class StructuredStreamingKafkaConnector:\n",
    "    def __init__(self, spark_session, kafka_servers, subscribe_topic, decode_schema, fun, checkpoint_directory = None):\n",
    "        self.__spark = spark_session\n",
    "        self.__kafka_servers = kafka_servers\n",
    "        self.__subscribe_topic = subscribe_topic\n",
    "        self.__decode_schema = decode_schema\n",
    "        self.__process_stream_function = fun\n",
    "        self.__checkpoint_directory = checkpoint_directory\n",
    "        self.__streaming_df = None\n",
    "        \n",
    "    def read_stream(self):\n",
    "        if self.__streaming_df is None:\n",
    "            self.__streaming_df = self.__spark \\\n",
    "                                    .readStream \\\n",
    "                                    .format(\"kafka\") \\\n",
    "                                    .option(\"kafka.bootstrap.servers\", self.__kafka_servers) \\\n",
    "                                    .option(\"subscribe\", self.__subscribe_topic) \\\n",
    "                                    .load()\n",
    "            self.__streaming_df.printSchema()\n",
    "    \n",
    "    def log_stream(self):\n",
    "        query = self.__streaming_df \\\n",
    "                    .selectExpr(\"CAST(key AS STRING)\", \"CAST(value AS STRING)\", \"topic\", \"partition\", \"offset\", \"timestamp\") \\\n",
    "                    .writeStream \\\n",
    "                    .format(\"console\") \\\n",
    "                    .option(\"checkpointLocation\", \"/fs/log_checkpoints\") \\\n",
    "                    .start()\n",
    "        query.awaitTermination()\n",
    "        \n",
    "    def write_stream(self):\n",
    "        query = self.__streaming_df \\\n",
    "                    .selectExpr(\"CAST(value AS STRING)\") \\\n",
    "                    .withColumn(\"value\", from_json(\"value\", self.__decode_schema)) \\\n",
    "                    .select(col('value.*')) \\\n",
    "                    .writeStream \\\n",
    "                    .foreachBatch(self.__process_stream_function)\n",
    "        \n",
    "        if not (self.__checkpoint_directory is None):\n",
    "            query = query.option(\"checkpointLocation\", self.__checkpoint_directory)\n",
    "        \n",
    "        query = query.start()\n",
    "        query.awaitTermination()\n",
    "            "
   ]
  },
  {
   "cell_type": "code",
   "execution_count": null,
   "id": "d2bfce8a",
   "metadata": {},
   "outputs": [],
   "source": [
    "schema = StructType(\n",
    "        [\n",
    "                StructField(\"val1\", StringType()),\n",
    "                StructField(\"val2\", StringType())\n",
    "        ]\n",
    ")\n",
    "\n",
    "mode = \"append\"\n",
    "url = \"jdbc:postgresql://test-postgres-db-%d:5432/db\"\n",
    "properties = {\"user\": \"auser\",\"password\": \"1234\",\"driver\": \"org.postgresql.Driver\"}\n",
    "\n",
    "import time\n",
    "\n",
    "def test_fun(x,y):\n",
    "    x.persist()\n",
    "    try:\n",
    "        x.write.jdbc(url=url%(1), table=\"tbl\", mode=mode, properties=properties)\n",
    "        print(\"Wrote data to test-postgres-db-1\")\n",
    "    except py4j.protocol.Py4JJavaError:\n",
    "        print(\"Exception will be handled....\")\n",
    "    \n",
    "    x.write.jdbc(url=url%(1), table=\"tbl\", mode=mode, properties=properties)\n",
    "    \n",
    "    print(y)\n",
    "    x.show()\n",
    "    time.sleep(5)\n",
    "    \n",
    "    try:\n",
    "        x.write.jdbc(url=url%(2), table=\"tbl\", mode=mode, properties=properties)\n",
    "        print(\"Wrote data to test-postgres-db-2\")\n",
    "    except py4j.protocol.Py4JJavaError:\n",
    "        print(\"Exception will be handled....\")\n",
    "        \n",
    "    time.sleep(5)\n",
    "    \n",
    "    x.unpersist()"
   ]
  },
  {
   "cell_type": "code",
   "execution_count": null,
   "id": "50651885",
   "metadata": {},
   "outputs": [],
   "source": [
    "ssKafka = StructuredStreamingKafkaConnector(spark, \"kafka:9092\", \"test\", schema, lambda x, y: test_fun(x,y), \"/fs/checkpoints\")"
   ]
  },
  {
   "cell_type": "code",
   "execution_count": null,
   "id": "5e17ca7a",
   "metadata": {},
   "outputs": [],
   "source": [
    "ssKafka.read_stream()"
   ]
  },
  {
   "cell_type": "code",
   "execution_count": null,
   "id": "582a060b",
   "metadata": {},
   "outputs": [],
   "source": [
    "#ssKafka.log_stream()"
   ]
  },
  {
   "cell_type": "code",
   "execution_count": null,
   "id": "357c2c37",
   "metadata": {},
   "outputs": [],
   "source": [
    "ssKafka.write_stream()"
   ]
  },
  {
   "cell_type": "code",
   "execution_count": null,
   "id": "84d56d3a",
   "metadata": {},
   "outputs": [],
   "source": []
  },
  {
   "cell_type": "code",
   "execution_count": null,
   "id": "dd704739",
   "metadata": {},
   "outputs": [],
   "source": []
  }
 ],
 "metadata": {
  "kernelspec": {
   "display_name": "Python 3 (ipykernel)",
   "language": "python",
   "name": "python3"
  },
  "language_info": {
   "codemirror_mode": {
    "name": "ipython",
    "version": 3
   },
   "file_extension": ".py",
   "mimetype": "text/x-python",
   "name": "python",
   "nbconvert_exporter": "python",
   "pygments_lexer": "ipython3",
   "version": "3.9.2"
  }
 },
 "nbformat": 4,
 "nbformat_minor": 5
}
